{
 "cells": [
  {
   "cell_type": "markdown",
   "metadata": {},
   "source": [
    "Структура и объявление класса, через: свойства, геттеры и сеттеры\n",
    "\n"
   ]
  },
  {
   "cell_type": "markdown",
   "metadata": {},
   "source": [
    "Ниже в блоке по примеру создайте базовый класс Animal и производные классы (2-3 например Dog, Cat и так далее) реализуйте структуру и объявление класса, включая свойства, геттеры и сеттеры, а также статические и обычными атрибуты и метода класса"
   ]
  },
  {
   "cell_type": "code",
   "execution_count": 1,
   "metadata": {
    "dotnet_interactive": {
     "language": "csharp"
    },
    "polyglot_notebook": {
     "kernelName": "csharp"
    },
    "vscode": {
     "languageId": "polyglot-notebook"
    }
   },
   "outputs": [
    {
     "name": "stdout",
     "output_type": "stream",
     "text": [
      "Шарик (порода: Лабрадор) говорит: Гав-гав!\n",
      "Шарик бежит за мячиком!\n",
      "\n",
      "Мурка (цвет шерсти: Черная) говорит: Мяу!\n",
      "Мурка мурлычет от удовольствия.\n",
      "\n",
      "Всего животных: 2\n"
     ]
    }
   ],
   "source": [
    "//Базовый класс Animal\n",
    "public class Animal\n",
    "{\n",
    "    // Поля\n",
    "    private string name;       // Закрытое поле для имени\n",
    "    private int age;           // Закрытое поле для возраста\n",
    "\n",
    "    // Свойства с геттерами и сеттерами\n",
    "    public string Name\n",
    "    {\n",
    "        get { return name; }\n",
    "        set { name = value; }  // Позволяет задавать имя\n",
    "    }\n",
    "\n",
    "    public int Age\n",
    "    {\n",
    "        get { return age; }\n",
    "        set\n",
    "        {\n",
    "            if (value > 0)      // Проверяем, что возраст положителен\n",
    "                age = value;\n",
    "            else\n",
    "                throw new ArgumentException(\"Возраст должен быть положительным числом.\");\n",
    "        }\n",
    "    }\n",
    "\n",
    "    // Статическое поле\n",
    "    public static int TotalAnimals { get; private set; } = 0; // Хранит количество созданных экземпляров\n",
    "\n",
    "    // Конструктор\n",
    "    public Animal(string name, int age)\n",
    "    {\n",
    "        Name = name;\n",
    "        Age = age;\n",
    "        TotalAnimals++; // Увеличиваем счетчик при создании каждого животного\n",
    "    }\n",
    "\n",
    "    // Метод\n",
    "    public virtual void Speak()\n",
    "    {\n",
    "        Console.WriteLine($\"{Name} издает какие-то звуки.\");\n",
    "    }\n",
    "\n",
    "    // Статический метод\n",
    "    public static void DisplayTotalAnimals()\n",
    "    {\n",
    "        Console.WriteLine($\"Всего животных: {TotalAnimals}\");\n",
    "    }\n",
    "}\n",
    "\n",
    "//Класс-наследник Dog\n",
    "public class Dog : Animal\n",
    "{\n",
    "    // Дополнительное поле\n",
    "    public string Breed { get; set; } // Порода собаки\n",
    "\n",
    "    // Конструктор\n",
    "    public Dog(string name, int age, string breed)\n",
    "        : base(name, age) // Вызов конструктора родительского класса\n",
    "    {\n",
    "        Breed = breed;\n",
    "    }\n",
    "\n",
    "    // Переопределение метода Speak\n",
    "    public override void Speak()\n",
    "    {\n",
    "        Console.WriteLine($\"{Name} (порода: {Breed}) говорит: Гав-гав!\");\n",
    "    }\n",
    "\n",
    "    // Метод специфичный для Dog\n",
    "    public void Fetch()\n",
    "    {\n",
    "        Console.WriteLine($\"{Name} бежит за мячиком!\");\n",
    "    }\n",
    "}\n",
    "\n",
    "//Класс-наследник Cat\n",
    "public class Cat : Animal\n",
    "{\n",
    "    // Дополнительное поле\n",
    "    public string FurColor { get; set; } // Цвет шерсти\n",
    "\n",
    "    // Конструктор\n",
    "    public Cat(string name, int age, string furColor)\n",
    "        : base(name, age) // Вызов конструктора родительского класса\n",
    "    {\n",
    "        FurColor = furColor;\n",
    "    }\n",
    "\n",
    "    // Переопределение метода Speak\n",
    "    public override void Speak()\n",
    "    {\n",
    "        Console.WriteLine($\"{Name} (цвет шерсти: {FurColor}) говорит: Мяу!\");\n",
    "    }\n",
    "\n",
    "    // Метод специфичный для Cat\n",
    "    public void Purr()\n",
    "    {\n",
    "        Console.WriteLine($\"{Name} мурлычет от удовольствия.\");\n",
    "    }\n",
    "}\n",
    "\n",
    "//Основной класс для запуска программы\n",
    "\n",
    "    {\n",
    "        // Создаем объекты производных классов\n",
    "        Dog dog = new Dog(\"Шарик\", 3, \"Лабрадор\");\n",
    "        Cat cat = new Cat(\"Мурка\", 2, \"Черная\");\n",
    "\n",
    "        // Используем методы и свойства\n",
    "        dog.Speak();\n",
    "        dog.Fetch();\n",
    "\n",
    "        Console.WriteLine();\n",
    "\n",
    "        cat.Speak();\n",
    "        cat.Purr();\n",
    "\n",
    "        Console.WriteLine();\n",
    "\n",
    "        // Показываем общее количество животных\n",
    "        Animal.DisplayTotalAnimals(); // Статический метод базового класса\n",
    "    }\n",
    "\n"
   ]
  }
 ],
 "metadata": {
  "kernelspec": {
   "display_name": ".NET (C#)",
   "language": "C#",
   "name": ".net-csharp"
  },
  "language_info": {
   "name": "python"
  },
  "polyglot_notebook": {
   "kernelInfo": {
    "defaultKernelName": "csharp",
    "items": [
     {
      "aliases": [],
      "name": "csharp"
     }
    ]
   }
  }
 },
 "nbformat": 4,
 "nbformat_minor": 2
}
