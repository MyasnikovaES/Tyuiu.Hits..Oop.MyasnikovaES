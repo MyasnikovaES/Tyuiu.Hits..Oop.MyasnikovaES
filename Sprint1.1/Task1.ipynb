{
 "cells": [
  {
   "cell_type": "markdown",
   "metadata": {},
   "source": [
    "Структура и объявление класса\n"
   ]
  },
  {
   "cell_type": "markdown",
   "metadata": {},
   "source": [
    "Ниже в блоке по примеру создайте базовый класс Animal и реализуйте структуру класса, атрибуты, методы, модификаторы доступа, статические члены, конструкторы, интерфейсы и состояние класса."
   ]
  },
  {
   "cell_type": "code",
   "execution_count": 1,
   "metadata": {
    "vscode": {
     "languageId": "polyglot-notebook"
    }
   },
   "outputs": [
    {
     "name": "stdout",
     "output_type": "stream",
     "text": [
      "Собака издает звуки, свойственные млекопитающим.\n",
      "Собака бегает на четырех лапах.\n",
      "\n",
      "Попугай чирикает или поет.\n",
      "Попугай летает, размахивая крыльями.\n",
      "\n",
      "Всего создано животных: 2\n"
     ]
    }
   ],
   "source": [
    "// Интерфейс для взаимодействия\n",
    "public interface IAnimal\n",
    "{\n",
    "    void Speak();  // Метод, который должен реализовать каждый подкласс\n",
    "    void Move();\n",
    "}\n",
    "\n",
    "// Базовый класс Animal\n",
    "public abstract class Animal : IAnimal  // Класс абстрактный, нельзя создать экземпляры\n",
    "{\n",
    "    // Поля с модификаторами доступа\n",
    "    private string name;\n",
    "    private int age;\n",
    "\n",
    "    // Свойства\n",
    "    public string Name\n",
    "    {\n",
    "        get { return name; }\n",
    "        protected set { name = value; }\n",
    "    }\n",
    "\n",
    "    public int Age\n",
    "    {\n",
    "        get { return age; }\n",
    "        protected set { age = value > 0 ? value : 0; }\n",
    "    }\n",
    "\n",
    "    // Статический член\n",
    "    public static int TotalAnimalsCreated { get; private set; }\n",
    "\n",
    "    // Конструктор базового класса\n",
    "    protected Animal(string name, int age)\n",
    "    {\n",
    "        this.Name = name;\n",
    "        this.Age = age;\n",
    "        TotalAnimalsCreated++;  // Учитывается количество экземпляров\n",
    "    }\n",
    "\n",
    "    // Абстрактный метод (без реализации, каждый дочерний класс обязан его реализовать)\n",
    "    public abstract void Speak();\n",
    "\n",
    "    // Метод интерфейса с базовой реализацией\n",
    "    public virtual void Move()\n",
    "    {\n",
    "        Console.WriteLine($\"{Name} двигается...\");\n",
    "    }\n",
    "\n",
    "    // Статический метод\n",
    "    public static void DisplayTotalAnimals()\n",
    "    {\n",
    "        Console.WriteLine($\"Всего создано животных: {TotalAnimalsCreated}\");\n",
    "    }\n",
    "}\n",
    "\n",
    "// Класс-наследник Mammal (Млекопитающее)\n",
    "public class Mammal : Animal\n",
    "{\n",
    "    // Дополнительное поле\n",
    "    public string FurColor { get; private set; }\n",
    "\n",
    "    // Конструктор\n",
    "    public Mammal(string name, int age, string furColor)\n",
    "        : base(name, age)  // Вызов конструктора базового класса\n",
    "    {\n",
    "        FurColor = furColor;\n",
    "    }\n",
    "\n",
    "    // Реализация абстрактного метода\n",
    "    public override void Speak()\n",
    "    {\n",
    "        Console.WriteLine($\"{Name} издает звуки, свойственные млекопитающим.\");\n",
    "    }\n",
    "\n",
    "    // Переопределение метода Move\n",
    "    public override void Move()\n",
    "    {\n",
    "        Console.WriteLine($\"{Name} бегает на четырех лапах.\");\n",
    "    }\n",
    "}\n",
    "\n",
    "// Класс-наследник Bird (Птица)\n",
    "public class Bird : Animal\n",
    "{\n",
    "    // Дополнительное состояние\n",
    "    public double WingSpan { get; private set; }  // Размах крыльев\n",
    "\n",
    "    // Конструктор\n",
    "    public Bird(string name, int age, double wingSpan)\n",
    "        : base(name, age)\n",
    "    {\n",
    "        WingSpan = wingSpan;\n",
    "    }\n",
    "\n",
    "    // Реализация абстрактного метода\n",
    "    public override void Speak()\n",
    "    {\n",
    "        Console.WriteLine($\"{Name} чирикает или поет.\");\n",
    "    }\n",
    "\n",
    "    // Переопределение метода Move\n",
    "    public override void Move()\n",
    "    {\n",
    "        Console.WriteLine($\"{Name} летает, размахивая крыльями.\");\n",
    "    }\n",
    "}\n",
    "\n",
    "\n",
    "    {\n",
    "        // Создаем объекты животных\n",
    "        Mammal dog = new Mammal(\"Собака\", 5, \"Черный\");\n",
    "        Bird parrot = new Bird(\"Попугай\", 2, 0.5);\n",
    "\n",
    "        // Вывод информации и взаимодействие\n",
    "        dog.Speak();\n",
    "        dog.Move();\n",
    "\n",
    "        Console.WriteLine();\n",
    "\n",
    "        parrot.Speak();\n",
    "        parrot.Move();\n",
    "\n",
    "        Console.WriteLine();\n",
    "\n",
    "        // Использование статического члена\n",
    "        Animal.DisplayTotalAnimals();\n",
    "    }\n",
    "\n"
   ]
  }
 ],
 "metadata": {
  "kernelspec": {
   "display_name": ".NET (C#)",
   "language": "C#",
   "name": ".net-csharp"
  },
  "language_info": {
   "name": "python"
  },
  "polyglot_notebook": {
   "kernelInfo": {
    "defaultKernelName": "csharp",
    "items": [
     {
      "aliases": [],
      "name": "csharp"
     }
    ]
   }
  }
 },
 "nbformat": 4,
 "nbformat_minor": 2
}
