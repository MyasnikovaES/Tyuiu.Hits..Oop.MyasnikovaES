{
 "cells": [
  {
   "cell_type": "markdown",
   "metadata": {},
   "source": [
    "1. *Классы и Объекты*\n",
    "\n",
    "Классы в C# - это шаблоны для создания объектов. Они определяют набор свойств (данных) и методов (действий), которые могут выполнять эти объекты. Объекты создаются по этим шаблонам и представляют собой экземпляры классов."
   ]
  },
  {
   "cell_type": "code",
   "execution_count": 2,
   "metadata": {
    "vscode": {
     "languageId": "polyglot-notebook"
    }
   },
   "outputs": [],
   "source": [
    "// Создание класса\n",
    "class Animal\n",
    "{\n",
    "}\n",
    "\n",
    "// Основная программа\n",
    "Animal pet = new Animal(); // создание объекта\n"
   ]
  },
  {
   "cell_type": "markdown",
   "metadata": {},
   "source": [
    "2. *Инкапсуляция*\n",
    "\n",
    "Инкапсуляция - это процесс скрытия деталей реализации класса от пользователя. В C#, инкапсуляция достигается за счет использования модификаторов доступа (public, private, protected), а также свойства и методы для управления доступом к данным объекта."
   ]
  },
  {
   "cell_type": "code",
   "execution_count": 3,
   "metadata": {
    "vscode": {
     "languageId": "polyglot-notebook"
    }
   },
   "outputs": [
    {
     "name": "stdout",
     "output_type": "stream",
     "text": [
      "Животное издает звук...\n",
      "Имя животного: Кот, Возраст: 3\n"
     ]
    }
   ],
   "source": [
    "// Создание класса\n",
    "class Animal\n",
    "{\n",
    "    private string name; // Приватное поле\n",
    "    private int age; // Приватное поле\n",
    "\n",
    "    public string Name // Свойство с геттером и сеттером\n",
    "    {\n",
    "        get { return name; }\n",
    "        set { name = value; }\n",
    "    }\n",
    "\n",
    "    public int Age // Свойство с геттером и сеттером\n",
    "    {\n",
    "        get { return age; }\n",
    "        set \n",
    "        {\n",
    "            if (value >= 0) // Проверка корректности значения\n",
    "                age = value;\n",
    "            else\n",
    "                age = 0;\n",
    "        }\n",
    "    }\n",
    "\n",
    "    public void MakeSound() // Публичный метод\n",
    "    {\n",
    "        Console.WriteLine(\"Животное издает звук...\");\n",
    "    }\n",
    "}\n",
    "\n",
    "// Основная программа\n",
    "Animal pet = new Animal(); // Создание объекта\n",
    "pet.Name = \"Кот\";\n",
    "pet.Age = 3;\n",
    "pet.MakeSound();\n",
    "Console.WriteLine($\"Имя животного: {pet.Name}, Возраст: {pet.Age}\");\n"
   ]
  },
  {
   "cell_type": "markdown",
   "metadata": {},
   "source": [
    "3. *Наследование*\n",
    "\n",
    "Наследование позволяет создавать новые классы на основе существующих, наследуя их свойства и методы. Это упрощает повторное использование кода и расширение функциональности."
   ]
  },
  {
   "cell_type": "code",
   "execution_count": 4,
   "metadata": {
    "vscode": {
     "languageId": "polyglot-notebook"
    }
   },
   "outputs": [
    {
     "name": "stdout",
     "output_type": "stream",
     "text": [
      "Животное ест...\n",
      "Имя: Общее животное, Возраст: 5\n",
      "Животное ест...\n",
      "Собака лает...\n",
      "Имя собаки: Шарик, Возраст: 3\n"
     ]
    }
   ],
   "source": [
    "// Создание базового класса\n",
    "class Animal\n",
    "{\n",
    "    private string name; // Приватное поле\n",
    "    private int age; // Приватное поле\n",
    "\n",
    "    public string Name // Свойство для поля name\n",
    "    {\n",
    "        get { return name; }\n",
    "        set { name = value; }\n",
    "    }\n",
    "\n",
    "    public int Age // Свойство для поля age\n",
    "    {\n",
    "        get { return age; }\n",
    "        set \n",
    "        {\n",
    "            if (value >= 0)\n",
    "                age = value;\n",
    "            else\n",
    "                age = 0;\n",
    "        }\n",
    "    }\n",
    "\n",
    "    public void Eat() // Общий метод для всех животных\n",
    "    {\n",
    "        Console.WriteLine(\"Животное ест...\");\n",
    "    }\n",
    "}\n",
    "\n",
    "// Создание производного класса\n",
    "class Dog : Animal\n",
    "{\n",
    "    public void Bark() // Метод, специфичный для собак\n",
    "    {\n",
    "        Console.WriteLine(\"Собака лает...\");\n",
    "    }\n",
    "}\n",
    "\n",
    "// Основная программа\n",
    "Animal myAnimal = new Animal(); // Создание объекта базового класса\n",
    "myAnimal.Name = \"Общее животное\";\n",
    "myAnimal.Age = 5;\n",
    "myAnimal.Eat();\n",
    "Console.WriteLine($\"Имя: {myAnimal.Name}, Возраст: {myAnimal.Age}\");\n",
    "\n",
    "Dog myDog = new Dog(); // Создание объекта производного класса\n",
    "myDog.Name = \"Шарик\";\n",
    "myDog.Age = 3;\n",
    "myDog.Eat();\n",
    "myDog.Bark();\n",
    "Console.WriteLine($\"Имя собаки: {myDog.Name}, Возраст: {myDog.Age}\");\n"
   ]
  },
  {
   "cell_type": "markdown",
   "metadata": {},
   "source": [
    "4. *Полиморфизм*\n",
    "\n",
    "Полиморфизм позволяет использовать один интерфейс для различных типов данных. В C# это достигается через переопределение методов и перегрузку методов и операторов. Метод Move() может быть переопределен в классе Car для выполнения специфической для автомобилей логики:"
   ]
  },
  {
   "cell_type": "code",
   "execution_count": 12,
   "metadata": {
    "vscode": {
     "languageId": "polyglot-notebook"
    }
   },
   "outputs": [
    {
     "name": "stdout",
     "output_type": "stream",
     "text": [
      "Животное издаёт звук\n",
      "Собака лает: Гав-гав\n",
      "Кошка мяукает: Мяу\n"
     ]
    }
   ],
   "source": [
    "\n",
    "\n",
    "class Animal\n",
    "{\n",
    "    public virtual void Speak() // Виртуальный метод\n",
    "    {\n",
    "        Console.WriteLine(\"Животное издаёт звук\");\n",
    "    }\n",
    "}\n",
    "\n",
    "class Dog : Animal\n",
    "{\n",
    "    public override void Speak() // Переопределение метода\n",
    "    {\n",
    "        Console.WriteLine(\"Собака лает: Гав-гав\");\n",
    "    }\n",
    "}\n",
    "\n",
    "class Cat : Animal\n",
    "{\n",
    "    public override void Speak() // Переопределение метода\n",
    "    {\n",
    "        Console.WriteLine(\"Кошка мяукает: Мяу\");\n",
    "    }\n",
    "}\n",
    "\n",
    "// Тестирование полиморфизма\n",
    "\n",
    "    {\n",
    "        Animal myAnimal = new Animal(); // Объект базового класса\n",
    "        myAnimal.Speak();\n",
    "\n",
    "        Animal myDog = new Dog(); // Полиморфизм\n",
    "        myDog.Speak();\n",
    "\n",
    "        Animal myCat = new Cat(); // Полиморфизм\n",
    "        myCat.Speak();\n",
    "    }\n",
    "\n"
   ]
  },
  {
   "cell_type": "markdown",
   "metadata": {},
   "source": [
    "5. *Абстракция*\n",
    "\n"
   ]
  },
  {
   "cell_type": "code",
   "execution_count": 13,
   "metadata": {
    "vscode": {
     "languageId": "polyglot-notebook"
    }
   },
   "outputs": [
    {
     "name": "stdout",
     "output_type": "stream",
     "text": [
      "Собака лает: Гав-гав\n",
      "Животное спит...\n",
      "Кошка мяукает: Мяу\n",
      "Животное спит...\n"
     ]
    }
   ],
   "source": [
    "\n",
    "\n",
    "// Абстрактный класс\n",
    "abstract class Animal\n",
    "{\n",
    "    // Абстрактный метод\n",
    "    public abstract void MakeSound();\n",
    "\n",
    "    // Обычный метод\n",
    "    public void Sleep()\n",
    "    {\n",
    "        Console.WriteLine(\"Животное спит...\");\n",
    "    }\n",
    "}\n",
    "\n",
    "// Наследник класса Animal - класс Dog\n",
    "class Dog : Animal\n",
    "{\n",
    "    // Реализация абстрактного метода\n",
    "    public override void MakeSound()\n",
    "    {\n",
    "        Console.WriteLine(\"Собака лает: Гав-гав\");\n",
    "    }\n",
    "}\n",
    "\n",
    "// Наследник класса Animal - класс Cat\n",
    "class Cat : Animal\n",
    "{\n",
    "    // Реализация абстрактного метода\n",
    "    public override void MakeSound()\n",
    "    {\n",
    "        Console.WriteLine(\"Кошка мяукает: Мяу\");\n",
    "    }\n",
    "}\n",
    "\n",
    "// Тестирование абстракции\n",
    "\n",
    "    \n",
    "    {\n",
    "        Animal myDog = new Dog(); // Полиморфизм через абстракцию\n",
    "        myDog.MakeSound();\n",
    "        myDog.Sleep();\n",
    "\n",
    "        Animal myCat = new Cat(); // Полиморфизм через абстракцию\n",
    "        myCat.MakeSound();\n",
    "        myCat.Sleep();\n",
    "    }\n"
   ]
  },
  {
   "cell_type": "markdown",
   "metadata": {},
   "source": [
    "6. *Ассоциация (Композиция и Агрегация)*\n",
    "\n",
    "Композиция — это форма ассоциации, которая описывает \"часть-целое\" отношение между классами. В контексте композиции один класс является частью другого класса, и они работают вместе для достижения общей цели. Классы, участвующие в композиции, тесно связаны друг с другом, и если одна часть (подкласс) уничтожается или изменяется, это может повлиять на работу всей системы."
   ]
  },
  {
   "cell_type": "code",
   "execution_count": null,
   "metadata": {
    "vscode": {
     "languageId": "polyglot-notebook"
    }
   },
   "outputs": [
    {
     "name": "stdout",
     "output_type": "stream",
     "text": [
      "Животное начинает звучать:\n",
      "Издаёт звук: Гав-гав\n",
      "Животное закончило издавать звуки.\n",
      "Животное начинает звучать:\n",
      "Издаёт звук: Мяу\n",
      "Животное закончило издавать звуки.\n"
     ]
    }
   ],
   "source": [
    "\n",
    "// Класс для звуков животного\n",
    "public class Sound\n",
    "{\n",
    "    public void MakeSound(string sound) => Console.WriteLine($\"Издаёт звук: {sound}\");\n",
    "}\n",
    "\n",
    "// Класс Animal, использующий композицию с классом Sound\n",
    "public class Animal\n",
    "{\n",
    "    private Sound sound;\n",
    "\n",
    "    public Animal(Sound sound)\n",
    "    {\n",
    "        this.sound = sound;\n",
    "    }\n",
    "\n",
    "    public void Speak(string animalSound)\n",
    "    {\n",
    "        Console.WriteLine(\"Животное начинает звучать:\");\n",
    "        sound.MakeSound(animalSound);\n",
    "        Console.WriteLine(\"Животное закончило издавать звуки.\");\n",
    "    }\n",
    "}\n",
    "\n",
    "// Тестирование композиции\n",
    "\n",
    "    {\n",
    "        Sound mySound = new Sound(); // Создание объекта для звуков\n",
    "        Animal myAnimal = new Animal(mySound); // Передача объекта Sound в Animal\n",
    "\n",
    "        myAnimal.Speak(\"Гав-гав\"); // Выводит звуки животного\n",
    "        myAnimal.Speak(\"Мяу\");\n",
    "    }\n",
    "\n"
   ]
  },
  {
   "cell_type": "markdown",
   "metadata": {},
   "source": [
    "7. *Ассоциация (Композиция и Агрегация)*\n",
    "\n",
    "Агрегация — это еще одна форма ассоциации, которая также описывает отношения между классами, но с более слабой связностью. В агрегации один класс содержит другой класс как составную часть, но эти классы могут функционировать независимо друг от друга. Если одна часть агрегата уничтожается, это не обязательно влияет на остальную систему.\n",
    "Для реализации агрегации на примере классов Car (автомобиль) и Driver (водитель) с использованием абстрактного класса, мы можем определить базовый абстрактный класс Vehicle (Транспортное средство), который будет содержать общие характеристики для всех видов транспортных средств. Затем, мы определим классы Car и Driver, которые будут агрегироваться вместе, но будут независимы друг от друга."
   ]
  },
  {
   "cell_type": "code",
   "execution_count": 16,
   "metadata": {
    "vscode": {
     "languageId": "polyglot-notebook"
    }
   },
   "outputs": [
    {
     "name": "stdout",
     "output_type": "stream",
     "text": [
      "Животное движется...\n",
      "Это животное живет в: лес\n",
      "Место обитания: лес\n"
     ]
    }
   ],
   "source": [
    "// Определяем абстрактный класс Creature\n",
    "abstract class Creature\n",
    "{\n",
    "    public abstract void Move();\n",
    "}\n",
    "\n",
    "// Класс Animal, наследующий Creature и агрегирующий Habitat\n",
    "class Animal : Creature\n",
    "{\n",
    "    private Habitat habitat;\n",
    "\n",
    "    public Animal(Habitat habitat)\n",
    "    {\n",
    "        this.habitat = habitat;\n",
    "    }\n",
    "\n",
    "    public override void Move()\n",
    "    {\n",
    "        Console.WriteLine(\"Животное движется...\");\n",
    "    }\n",
    "\n",
    "    public void DisplayHabitat()\n",
    "    {\n",
    "        Console.WriteLine($\"Это животное живет в: {habitat.Type}\");\n",
    "    }\n",
    "}\n",
    "\n",
    "// Класс Habitat\n",
    "class Habitat\n",
    "{\n",
    "    public string Type { get; set; }\n",
    "\n",
    "    public Habitat(string type)\n",
    "    {\n",
    "        Type = type;\n",
    "    }\n",
    "\n",
    "    public void Describe()\n",
    "    {\n",
    "        Console.WriteLine($\"Место обитания: {Type}\");\n",
    "    }\n",
    "}\n",
    "\n",
    "// Тестирование агрегации\n",
    "\n",
    "    {\n",
    "        Habitat forest = new Habitat(\"лес\"); // Создаём место обитания\n",
    "        Animal deer = new Animal(forest);    // Создаём животное с этим местом обитания\n",
    "\n",
    "        deer.Move();                         // Вывод: Животное движется...\n",
    "        deer.DisplayHabitat();               // Вывод: Это животное живет в: лес\n",
    "\n",
    "        forest.Describe();                   // Вывод: Место обитания: лес\n",
    "    }\n",
    "\n"
   ]
  }
 ],
 "metadata": {
  "kernelspec": {
   "display_name": ".NET (C#)",
   "language": "C#",
   "name": ".net-csharp"
  },
  "language_info": {
   "name": "python"
  },
  "polyglot_notebook": {
   "kernelInfo": {
    "defaultKernelName": "csharp",
    "items": [
     {
      "aliases": [],
      "name": "csharp"
     }
    ]
   }
  }
 },
 "nbformat": 4,
 "nbformat_minor": 2
}
