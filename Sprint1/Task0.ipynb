{
 "cells": [
  {
   "cell_type": "code",
   "execution_count": 3,
   "metadata": {
    "dotnet_interactive": {
     "language": "csharp"
    },
    "polyglot_notebook": {
     "kernelName": "csharp"
    },
    "vscode": {
     "languageId": "polyglot-notebook"
    }
   },
   "outputs": [
    {
     "name": "stdout",
     "output_type": "stream",
     "text": [
      "Hello\r\n"
     ]
    }
   ],
   "source": [
    "Console.WriteLine(\"Hello\")"
   ]
  },
  {
   "cell_type": "markdown",
   "metadata": {},
   "source": [
    "Дан целочисленный массив numbers со следующими элементами { 5, 8, 1, 3, 9, 6, 7, 2 }, нужно выполнить следующие операции:"
   ]
  },
  {
   "cell_type": "markdown",
   "metadata": {},
   "source": [
    "1. Найти минимальное и максимальное значения в массиве."
   ]
  },
  {
   "cell_type": "code",
   "execution_count": null,
   "metadata": {
    "vscode": {
     "languageId": "polyglot-notebook"
    }
   },
   "outputs": [
    {
     "name": "stdout",
     "output_type": "stream",
     "text": [
      "Минимальное значение: 1\n",
      "Максимальное значение: 9\n"
     ]
    }
   ],
   "source": [
    "int[] numbers = { 5, 8, 1, 3, 9, 6, 7, 2 };\n",
    "\n",
    "        \n",
    "        int minValue = int.MaxValue;\n",
    "        int maxValue = int.MinValue;\n",
    "\n",
    "        foreach (int number in numbers)\n",
    "        {\n",
    "            if (number < minValue)\n",
    "            {\n",
    "                minValue = number;\n",
    "            }\n",
    "\n",
    "            if (number > maxValue)\n",
    "            {\n",
    "                maxValue = number;\n",
    "            }\n",
    "        }\n",
    "\n",
    "        Console.WriteLine(\"Минимальное значение: \" + minValue);\n",
    "        Console.WriteLine(\"Максимальное значение: \" + maxValue);\n",
    "    \n",
    "\n"
   ]
  },
  {
   "cell_type": "markdown",
   "metadata": {},
   "source": [
    "2. Найти сумму всех элементов массива"
   ]
  },
  {
   "cell_type": "code",
   "execution_count": 5,
   "metadata": {
    "vscode": {
     "languageId": "polyglot-notebook"
    }
   },
   "outputs": [
    {
     "name": "stdout",
     "output_type": "stream",
     "text": [
      "Сумма всех элементов массива: 41\r\n"
     ]
    }
   ],
   "source": [
    "\n",
    "int[] numbers = { 5, 8, 1, 3, 9, 6, 7, 2 };\n",
    "\n",
    "        \n",
    "        int sum = 0;\n",
    "\n",
    "        \n",
    "        foreach (int number in numbers)\n",
    "        {\n",
    "            sum += number;\n",
    "        }\n",
    "\n",
    "        \n",
    "        Console.WriteLine(\"Сумма всех элементов массива: \" + sum);\n",
    "\n"
   ]
  },
  {
   "cell_type": "markdown",
   "metadata": {},
   "source": [
    "3. Найти среднее арифметическое всех элементов массива."
   ]
  },
  {
   "cell_type": "code",
   "execution_count": 6,
   "metadata": {
    "vscode": {
     "languageId": "polyglot-notebook"
    }
   },
   "outputs": [
    {
     "name": "stdout",
     "output_type": "stream",
     "text": [
      "Среднее арифметическое массива: 5.125\r\n"
     ]
    }
   ],
   "source": [
    "\n",
    "int[] numbers = { 5, 8, 1, 3, 9, 6, 7, 2 };\n",
    "\n",
    "        \n",
    "        int sum = 0;\n",
    "\n",
    "        \n",
    "        foreach (int number in numbers)\n",
    "        {\n",
    "            sum += number;\n",
    "        }\n",
    "\n",
    "        \n",
    "        double average = (double)sum / numbers.Length;\n",
    "\n",
    "        \n",
    "        Console.WriteLine(\"Среднее арифметическое массива: \" + average);\n",
    "\n"
   ]
  },
  {
   "cell_type": "markdown",
   "metadata": {},
   "source": [
    "4. Отсортировать массив в порядке возрастания."
   ]
  },
  {
   "cell_type": "code",
   "execution_count": 7,
   "metadata": {
    "vscode": {
     "languageId": "polyglot-notebook"
    }
   },
   "outputs": [
    {
     "name": "stdout",
     "output_type": "stream",
     "text": [
      "Массив после сортировки: 1, 2, 3, 5, 6, 7, 8, 9\r\n"
     ]
    }
   ],
   "source": [
    " int[] numbers = { 5, 8, 1, 3, 9, 6, 7, 2 };\n",
    "\n",
    "        \n",
    "        Array.Sort(numbers);\n",
    "\n",
    "        \n",
    "        Console.WriteLine(\"Массив после сортировки: \" + string.Join(\", \", numbers));\n",
    "  "
   ]
  },
  {
   "cell_type": "markdown",
   "metadata": {},
   "source": [
    "5. Проверить, содержит ли массив определенное число."
   ]
  },
  {
   "cell_type": "code",
   "execution_count": 10,
   "metadata": {
    "vscode": {
     "languageId": "polyglot-notebook"
    }
   },
   "outputs": [
    {
     "name": "stdout",
     "output_type": "stream",
     "text": [
      "Массив содержит число: 3\r\n"
     ]
    }
   ],
   "source": [
    "\n",
    "    int[] numbers = { 5, 8, 1, 3, 9, 6, 7, 2 };\n",
    "        int valueToFind = 3; \n",
    "\n",
    "        \n",
    "        bool contains = Array.Exists(numbers, element => element == valueToFind);\n",
    "\n",
    "        if (contains)\n",
    "        {\n",
    "            Console.WriteLine($\"Массив содержит число: {valueToFind}\");\n",
    "        }\n",
    "        else\n",
    "        {\n",
    "            Console.WriteLine($\"Массив не содержит число: {valueToFind}\");\n",
    "        }\n",
    " "
   ]
  }
 ],
 "metadata": {
  "kernelspec": {
   "display_name": ".NET (C#)",
   "language": "C#",
   "name": ".net-csharp"
  },
  "language_info": {
   "name": "python"
  },
  "polyglot_notebook": {
   "kernelInfo": {
    "defaultKernelName": "csharp",
    "items": [
     {
      "aliases": [],
      "name": "csharp"
     }
    ]
   }
  }
 },
 "nbformat": 4,
 "nbformat_minor": 2
}
