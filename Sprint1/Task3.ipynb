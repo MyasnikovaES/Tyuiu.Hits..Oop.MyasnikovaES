{
 "cells": [
  {
   "cell_type": "markdown",
   "metadata": {},
   "source": [
    "Название проекта :\n",
    "\n",
    " Employee"
   ]
  },
  {
   "cell_type": "markdown",
   "metadata": {},
   "source": [
    "Вариант задания :\n",
    "\n",
    "3"
   ]
  },
  {
   "cell_type": "markdown",
   "metadata": {},
   "source": [
    "Описание проекта :\n",
    "\n",
    "Создать базовый класс Employee в C#, который будет представлять информацию о \n",
    "сотрудниках компании. На основе этого класса разработать 2-3 производных \n",
    "класса, демонстрирующих принципы наследования и полиморфизма. В каждом из \n",
    "классов должны быть реализованы новые атрибуты и методы, а также \n",
    "переопределены некоторые методы базового класса для демонстрации \n",
    "полиморфизма. "
   ]
  },
  {
   "cell_type": "markdown",
   "metadata": {},
   "source": [
    "Реализация :\n"
   ]
  },
  {
   "cell_type": "code",
   "execution_count": 2,
   "metadata": {
    "vscode": {
     "languageId": "polyglot-notebook"
    }
   },
   "outputs": [
    {
     "name": "stdout",
     "output_type": "stream",
     "text": [
      "Имя: Иван, Возраст: 25, Должность: Слесарь\n",
      "Почасовая ставка: 500\n",
      "\n",
      "Имя: Мария, Возраст: 30, Должность: Администратор\n",
      "Отдел: HR\n"
     ]
    }
   ],
   "source": [
    "// Базовый класс Employee\n",
    "public class Employee\n",
    "{\n",
    "    // Поля\n",
    "    protected string Name { get; set; }\n",
    "    protected int Age { get; set; }\n",
    "    protected string Position { get; set; }\n",
    "\n",
    "    // Конструктор базового класса\n",
    "    public Employee(string name, int age, string position)\n",
    "    {\n",
    "        Name = name;\n",
    "        Age = age;\n",
    "        Position = position;\n",
    "    }\n",
    "\n",
    "    // Метод для отображения информации о сотруднике\n",
    "    public virtual void DisplayEmployeeInfo()\n",
    "    {\n",
    "        Console.WriteLine($\"Имя: {Name}, Возраст: {Age}, Должность: {Position}\");\n",
    "    }\n",
    "}\n",
    "\n",
    "// Класс-наследник для рабочего\n",
    "public class Worker : Employee\n",
    "{\n",
    "    // Дополнительное поле\n",
    "    public int HourlyRate { get; private set; }\n",
    "\n",
    "    // Конструктор\n",
    "    public Worker(string name, int age, string position, int hourlyRate)\n",
    "        : base(name, age, position)\n",
    "    {\n",
    "        HourlyRate = hourlyRate;\n",
    "    }\n",
    "\n",
    "    // Переопределенный метод\n",
    "    public override void DisplayEmployeeInfo()\n",
    "    {\n",
    "        base.DisplayEmployeeInfo();\n",
    "        Console.WriteLine($\"Почасовая ставка: {HourlyRate}\");\n",
    "    }\n",
    "}\n",
    "\n",
    "// Класс-наследник для администратора\n",
    "public class Administrator : Employee\n",
    "{\n",
    "    // Дополнительное поле\n",
    "    public string Department { get; private set; }\n",
    "\n",
    "    // Конструктор\n",
    "    public Administrator(string name, int age, string position, string department)\n",
    "        : base(name, age, position)\n",
    "    {\n",
    "        Department = department;\n",
    "    }\n",
    "\n",
    "    // Переопределенный метод\n",
    "    public override void DisplayEmployeeInfo()\n",
    "    {\n",
    "        base.DisplayEmployeeInfo();\n",
    "        Console.WriteLine($\"Отдел: {Department}\");\n",
    "    }\n",
    "}\n",
    "\n",
    "// Пример использования\n",
    "\n",
    "    {\n",
    "        // Создаем объекты сотрудников\n",
    "        Employee worker = new Worker(\"Иван\", 25, \"Слесарь\", 500);\n",
    "        Employee admin = new Administrator(\"Мария\", 30, \"Администратор\", \"HR\");\n",
    "\n",
    "        // Используем полиморфизм\n",
    "        worker.DisplayEmployeeInfo();\n",
    "        Console.WriteLine();\n",
    "        admin.DisplayEmployeeInfo();\n",
    "    }\n",
    "\n"
   ]
  }
 ],
 "metadata": {
  "kernelspec": {
   "display_name": ".NET (C#)",
   "language": "C#",
   "name": ".net-csharp"
  },
  "language_info": {
   "name": "python"
  },
  "polyglot_notebook": {
   "kernelInfo": {
    "defaultKernelName": "csharp",
    "items": [
     {
      "aliases": [],
      "name": "csharp"
     }
    ]
   }
  }
 },
 "nbformat": 4,
 "nbformat_minor": 2
}
